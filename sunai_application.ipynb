{
 "cells": [
  {
   "cell_type": "code",
   "execution_count": 29,
   "id": "616c7a5d",
   "metadata": {},
   "outputs": [],
   "source": [
    "import numpy as np\n",
    "import pandas as pd\n",
    "import matplotlib.pyplot as plt\n",
    "import seaborn as sns\n",
    "sns.set_theme(style='darkgrid')\n",
    "\n",
    "from datetime import datetime\n",
    "import os"
   ]
  },
  {
   "cell_type": "code",
   "execution_count": 99,
   "id": "857e517a-d2dc-429d-8ff8-c955832512c1",
   "metadata": {},
   "outputs": [],
   "source": [
    "xlsx_files = []\n",
    "for file in os.listdir('data/'):    \n",
    "    if not os.path.isdir(\"results/\"):\n",
    "        os.mkdir(\"results/\")\n",
    "    if not os.path.isdir(f\"results/{file.split('.')[0]}/\"):\n",
    "        os.mkdir(f\"results/{file.split('.')[0]}/\")\n",
    "    xlsx_files.append({'data': pd.read_excel(f'data/{file}'), 'file_name': file.split('.')[0]})                      "
   ]
  },
  {
   "cell_type": "code",
   "execution_count": 88,
   "id": "38015be0-a275-4a3e-a44d-91c2cabc6731",
   "metadata": {},
   "outputs": [
    {
     "data": {
      "text/plain": [
       "[{'data':       id_i            fecha_im  id_p  apparent_power_im  ac_current_im  \\\n",
       "  0     4799 2022-11-10 00:00:00   218                NaN            NaN   \n",
       "  1     4804 2022-11-10 00:00:00   218                NaN            NaN   \n",
       "  2     4801 2022-11-10 00:00:00   218                NaN            NaN   \n",
       "  3     4803 2022-11-10 00:00:00   218                NaN            NaN   \n",
       "  4     4799 2022-11-10 00:05:00   218                NaN            NaN   \n",
       "  ...    ...                 ...   ...                ...            ...   \n",
       "  1402  4801 2022-11-10 22:55:00   218                NaN            NaN   \n",
       "  1403  4803 2022-11-10 22:55:00   218                NaN            NaN   \n",
       "  1404  4799 2022-11-10 23:00:00   218                NaN            NaN   \n",
       "  1405  4804 2022-11-10 23:00:00   218                NaN            NaN   \n",
       "  1406  4801 2022-11-10 23:00:00   218                NaN            NaN   \n",
       "  \n",
       "        ac_voltage_phase1_im  ac_voltage_phase2_im  ac_voltage_phase3_im  \\\n",
       "  0                      NaN                   NaN                   NaN   \n",
       "  1                      NaN                   NaN                   NaN   \n",
       "  2                      NaN                   NaN                   NaN   \n",
       "  3                      NaN                   NaN                   NaN   \n",
       "  4                      NaN                   NaN                   NaN   \n",
       "  ...                    ...                   ...                   ...   \n",
       "  1402                   NaN                   NaN                   NaN   \n",
       "  1403                   NaN                   NaN                   NaN   \n",
       "  1404                   NaN                   NaN                   NaN   \n",
       "  1405                   NaN                   NaN                   NaN   \n",
       "  1406                   NaN                   NaN                   NaN   \n",
       "  \n",
       "        dc_current_im  dc_power_im  ...  power_factor_im  imputed_im  \\\n",
       "  0               0.0          NaN  ...              NaN         NaN   \n",
       "  1               0.0          NaN  ...              NaN         NaN   \n",
       "  2               0.0          NaN  ...              NaN         NaN   \n",
       "  3               NaN          NaN  ...              NaN         NaN   \n",
       "  4               NaN          NaN  ...              NaN         NaN   \n",
       "  ...             ...          ...  ...              ...         ...   \n",
       "  1402            NaN          NaN  ...              NaN         NaN   \n",
       "  1403            NaN          NaN  ...              NaN         NaN   \n",
       "  1404            0.0          NaN  ...              NaN         NaN   \n",
       "  1405            0.0          NaN  ...              NaN         NaN   \n",
       "  1406            0.0          NaN  ...              NaN         NaN   \n",
       "  \n",
       "        ac_current_phase1_im  ac_current_phase2_im  ac_current_phase3_im  \\\n",
       "  0                      NaN                   NaN                   NaN   \n",
       "  1                      NaN                   NaN                   NaN   \n",
       "  2                      NaN                   NaN                   NaN   \n",
       "  3                      NaN                   NaN                   NaN   \n",
       "  4                      NaN                   NaN                   NaN   \n",
       "  ...                    ...                   ...                   ...   \n",
       "  1402                   NaN                   NaN                   NaN   \n",
       "  1403                   NaN                   NaN                   NaN   \n",
       "  1404                   NaN                   NaN                   NaN   \n",
       "  1405                   NaN                   NaN                   NaN   \n",
       "  1406                   NaN                   NaN                   NaN   \n",
       "  \n",
       "        cos_phi_im  cod_alerta_inversor_medicion  \\\n",
       "  0            NaN                           NaN   \n",
       "  1            NaN                           NaN   \n",
       "  2            NaN                           NaN   \n",
       "  3            NaN                           NaN   \n",
       "  4            NaN                           NaN   \n",
       "  ...          ...                           ...   \n",
       "  1402         NaN                           NaN   \n",
       "  1403         NaN                           NaN   \n",
       "  1404         NaN                           NaN   \n",
       "  1405         NaN                           NaN   \n",
       "  1406         NaN                           NaN   \n",
       "  \n",
       "        fecha_recepcion_inversor_medicion  fecha_act_inversor_medicion  \\\n",
       "  0               2022-11-10 00:05:01.839                          NaN   \n",
       "  1               2022-11-10 00:05:01.851                          NaN   \n",
       "  2               2022-11-10 00:05:01.855                          NaN   \n",
       "  3               2022-11-10 00:05:01.858                          NaN   \n",
       "  4               2022-11-10 00:10:02.424                          NaN   \n",
       "  ...                                 ...                          ...   \n",
       "  1402            2022-11-10 23:00:01.795                          NaN   \n",
       "  1403            2022-11-10 23:00:01.798                          NaN   \n",
       "  1404            2022-11-10 23:05:01.348                          NaN   \n",
       "  1405            2022-11-10 23:05:01.358                          NaN   \n",
       "  1406            2022-11-10 23:05:01.361                          NaN   \n",
       "  \n",
       "        imputado_inversor_medicion  \n",
       "  0                              0  \n",
       "  1                              0  \n",
       "  2                              0  \n",
       "  3                              0  \n",
       "  4                              0  \n",
       "  ...                          ...  \n",
       "  1402                           0  \n",
       "  1403                           0  \n",
       "  1404                           0  \n",
       "  1405                           0  \n",
       "  1406                           0  \n",
       "  \n",
       "  [1407 rows x 29 columns],\n",
       "  'file_name': 'data_plantas_python_1_1'},\n",
       " {'data':      id_i            fecha_im  id_p  apparent_power_im  ac_current_im  \\\n",
       "  0     184 2022-11-10 00:00:00    31                NaN            NaN   \n",
       "  1     183 2022-11-10 00:00:00    31                NaN            NaN   \n",
       "  2     184 2022-11-10 00:05:00    31                NaN            NaN   \n",
       "  3     183 2022-11-10 00:05:00    31                NaN            NaN   \n",
       "  4     184 2022-11-10 00:10:00    31                NaN            NaN   \n",
       "  ..    ...                 ...   ...                ...            ...   \n",
       "  571   183 2022-11-10 23:45:00    31                NaN            NaN   \n",
       "  572   184 2022-11-10 23:50:00    31                NaN            NaN   \n",
       "  573   183 2022-11-10 23:50:00    31                NaN            NaN   \n",
       "  574   184 2022-11-10 23:55:00    31                NaN            NaN   \n",
       "  575   183 2022-11-10 23:55:00    31                NaN            NaN   \n",
       "  \n",
       "       ac_voltage_phase1_im  ac_voltage_phase2_im  ac_voltage_phase3_im  \\\n",
       "  0                     NaN                   NaN                   NaN   \n",
       "  1                     NaN                   NaN                   NaN   \n",
       "  2                     NaN                   NaN                   NaN   \n",
       "  3                     NaN                   NaN                   NaN   \n",
       "  4                     NaN                   NaN                   NaN   \n",
       "  ..                    ...                   ...                   ...   \n",
       "  571                   NaN                   NaN                   NaN   \n",
       "  572                   NaN                   NaN                   NaN   \n",
       "  573                   NaN                   NaN                   NaN   \n",
       "  574                   NaN                   NaN                   NaN   \n",
       "  575                   NaN                   NaN                   NaN   \n",
       "  \n",
       "       dc_current_im  dc_power_im  ...  power_factor_im  imputed_im  \\\n",
       "  0              NaN          NaN  ...              NaN         NaN   \n",
       "  1              0.0          NaN  ...              NaN         NaN   \n",
       "  2              0.0          NaN  ...              NaN         NaN   \n",
       "  3              NaN          NaN  ...              NaN         NaN   \n",
       "  4              0.0          NaN  ...              NaN         NaN   \n",
       "  ..             ...          ...  ...              ...         ...   \n",
       "  571            0.0          NaN  ...              NaN         NaN   \n",
       "  572            NaN          NaN  ...              NaN         NaN   \n",
       "  573            NaN          NaN  ...              NaN         NaN   \n",
       "  574            0.0          NaN  ...              NaN         NaN   \n",
       "  575            0.0          NaN  ...              NaN         NaN   \n",
       "  \n",
       "      ac_current_phase1_im  ac_current_phase2_im  ac_current_phase3_im  \\\n",
       "  0                    NaN                   NaN                   NaN   \n",
       "  1                    NaN                   NaN                   NaN   \n",
       "  2                    NaN                   NaN                   NaN   \n",
       "  3                    NaN                   NaN                   NaN   \n",
       "  4                    NaN                   NaN                   NaN   \n",
       "  ..                   ...                   ...                   ...   \n",
       "  571                  NaN                   NaN                   NaN   \n",
       "  572                  NaN                   NaN                   NaN   \n",
       "  573                  NaN                   NaN                   NaN   \n",
       "  574                  NaN                   NaN                   NaN   \n",
       "  575                  NaN                   NaN                   NaN   \n",
       "  \n",
       "       cos_phi_im  cod_alerta_inversor_medicion  \\\n",
       "  0           NaN                           NaN   \n",
       "  1           NaN                           NaN   \n",
       "  2           NaN                           NaN   \n",
       "  3           NaN                           NaN   \n",
       "  4           NaN                           NaN   \n",
       "  ..          ...                           ...   \n",
       "  571         NaN                           NaN   \n",
       "  572         NaN                           NaN   \n",
       "  573         NaN                           NaN   \n",
       "  574         NaN                           NaN   \n",
       "  575         NaN                           NaN   \n",
       "  \n",
       "       fecha_recepcion_inversor_medicion  fecha_act_inversor_medicion  \\\n",
       "  0              2022-11-10 00:05:02.384                          NaN   \n",
       "  1              2022-11-10 00:05:02.374                          NaN   \n",
       "  2              2022-11-10 00:10:02.960                          NaN   \n",
       "  3              2022-11-10 00:10:02.949                          NaN   \n",
       "  4              2022-11-10 00:15:02.563                          NaN   \n",
       "  ..                                 ...                          ...   \n",
       "  571            2022-11-10 23:50:02.042                          NaN   \n",
       "  572            2022-11-10 23:55:02.662                          NaN   \n",
       "  573            2022-11-10 23:55:02.653                          NaN   \n",
       "  574            2022-11-11 00:00:02.574                          NaN   \n",
       "  575            2022-11-11 00:00:02.564                          NaN   \n",
       "  \n",
       "       imputado_inversor_medicion  \n",
       "  0                             0  \n",
       "  1                             0  \n",
       "  2                             0  \n",
       "  3                             0  \n",
       "  4                             0  \n",
       "  ..                          ...  \n",
       "  571                           0  \n",
       "  572                           0  \n",
       "  573                           0  \n",
       "  574                           0  \n",
       "  575                           0  \n",
       "  \n",
       "  [576 rows x 29 columns],\n",
       "  'file_name': 'data_plantas_python_2'}]"
      ]
     },
     "execution_count": 88,
     "metadata": {},
     "output_type": "execute_result"
    }
   ],
   "source": [
    "xlsx_files"
   ]
  },
  {
   "cell_type": "code",
   "execution_count": 89,
   "id": "a5a7f32c-b588-40d6-9f83-f098e5a0d5fa",
   "metadata": {},
   "outputs": [
    {
     "name": "stdout",
     "output_type": "stream",
     "text": [
      "<class 'pandas.core.frame.DataFrame'>\n",
      "RangeIndex: 1407 entries, 0 to 1406\n",
      "Data columns (total 29 columns):\n",
      " #   Column                             Non-Null Count  Dtype         \n",
      "---  ------                             --------------  -----         \n",
      " 0   id_i                               1407 non-null   int64         \n",
      " 1   fecha_im                           1407 non-null   datetime64[ns]\n",
      " 2   id_p                               1407 non-null   int64         \n",
      " 3   apparent_power_im                  0 non-null      float64       \n",
      " 4   ac_current_im                      0 non-null      float64       \n",
      " 5   ac_voltage_phase1_im               707 non-null    float64       \n",
      " 6   ac_voltage_phase2_im               707 non-null    float64       \n",
      " 7   ac_voltage_phase3_im               707 non-null    float64       \n",
      " 8   dc_current_im                      1153 non-null   float64       \n",
      " 9   dc_power_im                        0 non-null      float64       \n",
      " 10  dc_voltage_im                      1153 non-null   float64       \n",
      " 11  active_energy_im                   1407 non-null   int64         \n",
      " 12  active_power_im                    707 non-null    float64       \n",
      " 13  reactive_power_im                  0 non-null      float64       \n",
      " 14  frequency_im                       707 non-null    float64       \n",
      " 15  temperature_internal_im            0 non-null      float64       \n",
      " 16  temperature_external_im            0 non-null      float64       \n",
      " 17  temperature_heatsink_im            0 non-null      float64       \n",
      " 18  isolation_resistance_im            0 non-null      float64       \n",
      " 19  power_factor_im                    0 non-null      float64       \n",
      " 20  imputed_im                         0 non-null      float64       \n",
      " 21  ac_current_phase1_im               707 non-null    float64       \n",
      " 22  ac_current_phase2_im               707 non-null    float64       \n",
      " 23  ac_current_phase3_im               707 non-null    float64       \n",
      " 24  cos_phi_im                         0 non-null      float64       \n",
      " 25  cod_alerta_inversor_medicion       0 non-null      float64       \n",
      " 26  fecha_recepcion_inversor_medicion  1407 non-null   datetime64[ns]\n",
      " 27  fecha_act_inversor_medicion        0 non-null      float64       \n",
      " 28  imputado_inversor_medicion         1407 non-null   int64         \n",
      "dtypes: datetime64[ns](2), float64(23), int64(4)\n",
      "memory usage: 318.9 KB\n"
     ]
    }
   ],
   "source": [
    "xlsx_files[0]['data'].info()"
   ]
  },
  {
   "cell_type": "code",
   "execution_count": 90,
   "id": "8fc69ddb-536d-4777-b200-39248e838180",
   "metadata": {},
   "outputs": [
    {
     "name": "stdout",
     "output_type": "stream",
     "text": [
      "<class 'pandas.core.frame.DataFrame'>\n",
      "RangeIndex: 576 entries, 0 to 575\n",
      "Data columns (total 29 columns):\n",
      " #   Column                             Non-Null Count  Dtype         \n",
      "---  ------                             --------------  -----         \n",
      " 0   id_i                               576 non-null    int64         \n",
      " 1   fecha_im                           576 non-null    datetime64[ns]\n",
      " 2   id_p                               576 non-null    int64         \n",
      " 3   apparent_power_im                  0 non-null      float64       \n",
      " 4   ac_current_im                      0 non-null      float64       \n",
      " 5   ac_voltage_phase1_im               332 non-null    float64       \n",
      " 6   ac_voltage_phase2_im               332 non-null    float64       \n",
      " 7   ac_voltage_phase3_im               332 non-null    float64       \n",
      " 8   dc_current_im                      513 non-null    float64       \n",
      " 9   dc_power_im                        0 non-null      float64       \n",
      " 10  dc_voltage_im                      513 non-null    float64       \n",
      " 11  active_energy_im                   576 non-null    int64         \n",
      " 12  active_power_im                    332 non-null    object        \n",
      " 13  reactive_power_im                  0 non-null      float64       \n",
      " 14  frequency_im                       332 non-null    float64       \n",
      " 15  temperature_internal_im            0 non-null      float64       \n",
      " 16  temperature_external_im            0 non-null      float64       \n",
      " 17  temperature_heatsink_im            0 non-null      float64       \n",
      " 18  isolation_resistance_im            0 non-null      float64       \n",
      " 19  power_factor_im                    0 non-null      float64       \n",
      " 20  imputed_im                         0 non-null      float64       \n",
      " 21  ac_current_phase1_im               332 non-null    float64       \n",
      " 22  ac_current_phase2_im               332 non-null    float64       \n",
      " 23  ac_current_phase3_im               332 non-null    float64       \n",
      " 24  cos_phi_im                         0 non-null      float64       \n",
      " 25  cod_alerta_inversor_medicion       0 non-null      float64       \n",
      " 26  fecha_recepcion_inversor_medicion  576 non-null    datetime64[ns]\n",
      " 27  fecha_act_inversor_medicion        0 non-null      float64       \n",
      " 28  imputado_inversor_medicion         576 non-null    int64         \n",
      "dtypes: datetime64[ns](2), float64(22), int64(4), object(1)\n",
      "memory usage: 130.6+ KB\n"
     ]
    }
   ],
   "source": [
    "xlsx_files[1]['data'].info()"
   ]
  },
  {
   "cell_type": "code",
   "execution_count": 91,
   "id": "9b0f443e-14ed-4da6-b87b-3277f21561f1",
   "metadata": {},
   "outputs": [
    {
     "data": {
      "text/plain": [
       "(array([4799, 4804, 4801, 4803, 4802, 4800, 4798], dtype=int64),\n",
       " array([184, 183], dtype=int64))"
      ]
     },
     "execution_count": 91,
     "metadata": {},
     "output_type": "execute_result"
    }
   ],
   "source": [
    "xlsx_files[0]['data']['id_i'].unique(), xlsx_files[1]['data']['id_i'].unique()"
   ]
  },
  {
   "cell_type": "code",
   "execution_count": 115,
   "id": "2baf1eb0-b2ce-4f03-8912-e7d0288ff06a",
   "metadata": {},
   "outputs": [
    {
     "name": "stdout",
     "output_type": "stream",
     "text": [
      "0\n",
      "244\n"
     ]
    }
   ],
   "source": [
    "energy = xlsx_files[1]['data'][['fecha_im', 'id_i', 'active_energy_im']]\n",
    "print(energy['active_energy_im'].isna().sum())\n",
    "energy = energy[energy['active_energy_im'].notnull()]\n",
    "power = xlsx_files[1]['data'][['fecha_im', 'id_i', 'active_power_im']]\n",
    "print(power['active_power_im'].isna().sum())\n",
    "power = power[power['active_power_im'].notnull()]"
   ]
  },
  {
   "cell_type": "code",
   "execution_count": 116,
   "id": "f2a9cc88-26ec-45f2-ae5e-0d8fd24917a4",
   "metadata": {},
   "outputs": [
    {
     "data": {
      "text/html": [
       "<div>\n",
       "<style scoped>\n",
       "    .dataframe tbody tr th:only-of-type {\n",
       "        vertical-align: middle;\n",
       "    }\n",
       "\n",
       "    .dataframe tbody tr th {\n",
       "        vertical-align: top;\n",
       "    }\n",
       "\n",
       "    .dataframe thead th {\n",
       "        text-align: right;\n",
       "    }\n",
       "</style>\n",
       "<table border=\"1\" class=\"dataframe\">\n",
       "  <thead>\n",
       "    <tr style=\"text-align: right;\">\n",
       "      <th></th>\n",
       "      <th>fecha_im</th>\n",
       "      <th>id_i</th>\n",
       "      <th>active_energy_im</th>\n",
       "    </tr>\n",
       "  </thead>\n",
       "  <tbody>\n",
       "    <tr>\n",
       "      <th>0</th>\n",
       "      <td>2022-11-10 00:00:00</td>\n",
       "      <td>184</td>\n",
       "      <td>100358904</td>\n",
       "    </tr>\n",
       "    <tr>\n",
       "      <th>1</th>\n",
       "      <td>2022-11-10 00:00:00</td>\n",
       "      <td>183</td>\n",
       "      <td>112809400</td>\n",
       "    </tr>\n",
       "    <tr>\n",
       "      <th>2</th>\n",
       "      <td>2022-11-10 00:05:00</td>\n",
       "      <td>184</td>\n",
       "      <td>100358904</td>\n",
       "    </tr>\n",
       "    <tr>\n",
       "      <th>3</th>\n",
       "      <td>2022-11-10 00:05:00</td>\n",
       "      <td>183</td>\n",
       "      <td>112809400</td>\n",
       "    </tr>\n",
       "    <tr>\n",
       "      <th>4</th>\n",
       "      <td>2022-11-10 00:10:00</td>\n",
       "      <td>184</td>\n",
       "      <td>100358904</td>\n",
       "    </tr>\n",
       "    <tr>\n",
       "      <th>...</th>\n",
       "      <td>...</td>\n",
       "      <td>...</td>\n",
       "      <td>...</td>\n",
       "    </tr>\n",
       "    <tr>\n",
       "      <th>571</th>\n",
       "      <td>2022-11-10 23:45:00</td>\n",
       "      <td>183</td>\n",
       "      <td>112923304</td>\n",
       "    </tr>\n",
       "    <tr>\n",
       "      <th>572</th>\n",
       "      <td>2022-11-10 23:50:00</td>\n",
       "      <td>184</td>\n",
       "      <td>100456504</td>\n",
       "    </tr>\n",
       "    <tr>\n",
       "      <th>573</th>\n",
       "      <td>2022-11-10 23:50:00</td>\n",
       "      <td>183</td>\n",
       "      <td>112923304</td>\n",
       "    </tr>\n",
       "    <tr>\n",
       "      <th>574</th>\n",
       "      <td>2022-11-10 23:55:00</td>\n",
       "      <td>184</td>\n",
       "      <td>100456504</td>\n",
       "    </tr>\n",
       "    <tr>\n",
       "      <th>575</th>\n",
       "      <td>2022-11-10 23:55:00</td>\n",
       "      <td>183</td>\n",
       "      <td>112923304</td>\n",
       "    </tr>\n",
       "  </tbody>\n",
       "</table>\n",
       "<p>576 rows × 3 columns</p>\n",
       "</div>"
      ],
      "text/plain": [
       "               fecha_im  id_i  active_energy_im\n",
       "0   2022-11-10 00:00:00   184         100358904\n",
       "1   2022-11-10 00:00:00   183         112809400\n",
       "2   2022-11-10 00:05:00   184         100358904\n",
       "3   2022-11-10 00:05:00   183         112809400\n",
       "4   2022-11-10 00:10:00   184         100358904\n",
       "..                  ...   ...               ...\n",
       "571 2022-11-10 23:45:00   183         112923304\n",
       "572 2022-11-10 23:50:00   184         100456504\n",
       "573 2022-11-10 23:50:00   183         112923304\n",
       "574 2022-11-10 23:55:00   184         100456504\n",
       "575 2022-11-10 23:55:00   183         112923304\n",
       "\n",
       "[576 rows x 3 columns]"
      ]
     },
     "execution_count": 116,
     "metadata": {},
     "output_type": "execute_result"
    }
   ],
   "source": [
    "energy"
   ]
  },
  {
   "cell_type": "code",
   "execution_count": 129,
   "id": "bfbc2f21-3186-41ec-ab37-87a56f3c2ac4",
   "metadata": {},
   "outputs": [
    {
     "data": {
      "text/plain": [
       "3"
      ]
     },
     "execution_count": 129,
     "metadata": {},
     "output_type": "execute_result"
    }
   ],
   "source": [
    "power[power['active_power_im'].apply(pd.to_numeric, errors='coerce').notna() == False].shape[0]"
   ]
  },
  {
   "cell_type": "code",
   "execution_count": 136,
   "id": "f9360638-c00e-4799-8306-012f82712a0b",
   "metadata": {},
   "outputs": [],
   "source": [
    "power = power[power['active_power_im'].apply(pd.to_numeric, errors='coerce').notna()]"
   ]
  },
  {
   "cell_type": "code",
   "execution_count": 137,
   "id": "d7ec51f4-976e-4f0f-9250-84512e75ad47",
   "metadata": {},
   "outputs": [
    {
     "data": {
      "text/plain": [
       "2520597"
      ]
     },
     "execution_count": 137,
     "metadata": {},
     "output_type": "execute_result"
    }
   ],
   "source": [
    "power['active_power_im'].sum()"
   ]
  },
  {
   "cell_type": "code",
   "execution_count": 109,
   "id": "54f72bdf-b2fb-4ed1-a4f2-d7199ff44ddf",
   "metadata": {},
   "outputs": [
    {
     "data": {
      "text/plain": [
       "(100358904, 112923304)"
      ]
     },
     "execution_count": 109,
     "metadata": {},
     "output_type": "execute_result"
    }
   ],
   "source": [
    "energy['active_energy_im'].min(), energy['active_energy_im'].max()"
   ]
  },
  {
   "cell_type": "code",
   "execution_count": 100,
   "id": "2461556d-65ea-41b9-a6d0-5df096240d94",
   "metadata": {},
   "outputs": [
    {
     "data": {
      "image/png": "[encoded data removed]",
      "text/plain": [
       "<Figure size 640x480 with 1 Axes>"
      ]
     },
     "metadata": {},
     "output_type": "display_data"
    }
   ],
   "source": [
    "sns.lineplot(x=\"fecha_im\", y=\"active_power_im\", hue='id_i', data=power)\n",
    "graph_path = f\"results/{xlsx_files[0]['file_name']}/{file}_active_power.png\"\n",
    "plt.savefig(graph_path)"
   ]
  },
  {
   "cell_type": "code",
   "execution_count": 97,
   "id": "512508a7-ae45-4c0f-9dd1-dfa37162e2c0",
   "metadata": {},
   "outputs": [],
   "source": [
    "with open(f\"results/{xlsx_files[0]['file_name']}/{xlsx_files[0]['file_name']}.txt\", 'w') as output_txt:\n",
    "    output_txt.write(f\"Today's active power sum: {power['active_power_im'].sum()}\\nToday's active energy min: {energy['active_energy_im'].min()}\\nToday's active energy max: {energy['active_energy_im'].max()}\\ngraph path: {os.getcwd()}\\\\{graph_path}\")"
   ]
  },
  {
   "cell_type": "code",
   "execution_count": 12,
   "id": "f822e279-4674-4161-a6fe-b4e7c11ff685",
   "metadata": {},
   "outputs": [
    {
     "data": {
      "text/html": [
       "<div>\n",
       "<style scoped>\n",
       "    .dataframe tbody tr th:only-of-type {\n",
       "        vertical-align: middle;\n",
       "    }\n",
       "\n",
       "    .dataframe tbody tr th {\n",
       "        vertical-align: top;\n",
       "    }\n",
       "\n",
       "    .dataframe thead th {\n",
       "        text-align: right;\n",
       "    }\n",
       "</style>\n",
       "<table border=\"1\" class=\"dataframe\">\n",
       "  <thead>\n",
       "    <tr style=\"text-align: right;\">\n",
       "      <th></th>\n",
       "      <th>value</th>\n",
       "    </tr>\n",
       "    <tr>\n",
       "      <th>source</th>\n",
       "      <th></th>\n",
       "    </tr>\n",
       "  </thead>\n",
       "  <tbody>\n",
       "    <tr>\n",
       "      <th>inversor_1</th>\n",
       "      <td>4.896</td>\n",
       "    </tr>\n",
       "    <tr>\n",
       "      <th>inversor_2</th>\n",
       "      <td>5.214</td>\n",
       "    </tr>\n",
       "  </tbody>\n",
       "</table>\n",
       "</div>"
      ],
      "text/plain": [
       "            value\n",
       "source           \n",
       "inversor_1  4.896\n",
       "inversor_2  5.214"
      ]
     },
     "execution_count": 12,
     "metadata": {},
     "output_type": "execute_result"
    }
   ],
   "source": [
    "data.groupby('source').mean(numeric_only=True)"
   ]
  },
  {
   "cell_type": "code",
   "execution_count": 13,
   "id": "31fa8bf2-813b-4e99-84b0-412e4df18a47",
   "metadata": {},
   "outputs": [
    {
     "data": {
      "text/plain": [
       "(0, 10)"
      ]
     },
     "execution_count": 13,
     "metadata": {},
     "output_type": "execute_result"
    }
   ],
   "source": [
    "data['value'].min(), data['value'].max() "
   ]
  },
  {
   "cell_type": "code",
   "execution_count": 17,
   "id": "f806ab50-34bf-4ece-bd01-574331e85de8",
   "metadata": {},
   "outputs": [],
   "source": [
    "with open(f\"solar_generation_{data['date'][0].strftime('%d-%m-%Y')}.txt\", 'w') as output_txt:\n",
    "    output_txt.write(f\"max: {data['value'].max()}\\nmin: {data['value'].min()}\\nsum: {data['value'].sum()}\\ngraph path: {os.getcwd()}\\\\graph.png\")"
   ]
  },
  {
   "cell_type": "code",
   "execution_count": 15,
   "id": "7e48bb61-5415-4709-b1be-ffd88e81ff0e",
   "metadata": {},
   "outputs": [
    {
     "data": {
      "text/plain": [
       "Timestamp('2022-01-01 04:50:25')"
      ]
     },
     "execution_count": 15,
     "metadata": {},
     "output_type": "execute_result"
    }
   ],
   "source": [
    "data['date'][0]"
   ]
  },
  {
   "cell_type": "code",
   "execution_count": 16,
   "id": "36347644-1d88-4a18-840f-7766c1564906",
   "metadata": {},
   "outputs": [
    {
     "data": {
      "text/plain": [
       "'01-01-2022'"
      ]
     },
     "execution_count": 16,
     "metadata": {},
     "output_type": "execute_result"
    }
   ],
   "source": [
    "str_date = data['date'][0].strftime('%d-%m-%Y')\n",
    "str_date"
   ]
  },
  {
   "cell_type": "code",
   "execution_count": 74,
   "id": "23941b81-2492-4cd8-b502-ccfc11883888",
   "metadata": {},
   "outputs": [
    {
     "data": {
      "text/plain": [
       "'C:\\\\Users\\\\alfre\\\\Documents\\\\Python\\\\ML\\\\sunai'"
      ]
     },
     "execution_count": 74,
     "metadata": {},
     "output_type": "execute_result"
    }
   ],
   "source": [
    "os.getcwd()"
   ]
  },
  {
   "cell_type": "code",
   "execution_count": null,
   "id": "0af5ced5-f0d1-4331-a7e6-a800e9246831",
   "metadata": {},
   "outputs": [],
   "source": []
  }
 ],
 "metadata": {
  "kernelspec": {
   "display_name": "Python 3 (ipykernel)",
   "language": "python",
   "name": "python3"
  },
  "language_info": {
   "codemirror_mode": {
    "name": "ipython",
    "version": 3
   },
   "file_extension": ".py",
   "mimetype": "text/x-python",
   "name": "python",
   "nbconvert_exporter": "python",
   "pygments_lexer": "ipython3",
   "version": "3.9.13"
  }
 },
 "nbformat": 4,
 "nbformat_minor": 5
}
